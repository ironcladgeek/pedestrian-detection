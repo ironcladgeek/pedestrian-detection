{
  "cells": [
    {
      "cell_type": "markdown",
      "source": [
        "<a target=\"_blank\" href=\"https://colab.research.google.com/drive/1kHdTl66zi2AmCGaBu5-9YcABOOPSc4Ji?usp=share_link\">\n",
        "  <img src=\"https://colab.research.google.com/assets/colab-badge.svg\" alt=\"Open In Colab\"/>\n",
        "</a>"
      ],
      "metadata": {
        "id": "6Evc3AC_QARz"
      }
    },
    {
      "cell_type": "code",
      "execution_count": null,
      "metadata": {
        "id": "3ZcJFzLkNYCQ"
      },
      "outputs": [],
      "source": [
        "%%capture\n",
        "! pip install pip==21.3.1\n",
        "! pip install kaggle"
      ]
    },
    {
      "cell_type": "code",
      "source": [
        "from google.colab import drive\n",
        "drive.mount('/content/drive')"
      ],
      "metadata": {
        "colab": {
          "base_uri": "https://localhost:8080/"
        },
        "id": "fzmm-GrX7bcm",
        "outputId": "fc75a534-5d59-4611-9b33-f5d3ee017a07"
      },
      "execution_count": null,
      "outputs": [
        {
          "output_type": "stream",
          "name": "stdout",
          "text": [
            "Drive already mounted at /content/drive; to attempt to forcibly remount, call drive.mount(\"/content/drive\", force_remount=True).\n"
          ]
        }
      ]
    },
    {
      "cell_type": "code",
      "execution_count": null,
      "metadata": {
        "id": "G0MRhTVUPnjn"
      },
      "outputs": [],
      "source": [
        "import os\n",
        "from fastai.vision.all import get_image_files\n",
        "from PIL import Image\n",
        "from tqdm import tqdm\n",
        "from glob import iglob\n",
        "from collections import Counter"
      ]
    },
    {
      "cell_type": "code",
      "execution_count": null,
      "metadata": {
        "colab": {
          "base_uri": "https://localhost:8080/"
        },
        "id": "01nimU92Ny7O",
        "outputId": "b1620861-32ac-4977-c2e6-d2f6fa3def5e"
      },
      "outputs": [
        {
          "output_type": "stream",
          "name": "stdout",
          "text": [
            "-rw------- 1 root root 68 Mar 15 19:43 /root/.kaggle/kaggle.json\n"
          ]
        },
        {
          "output_type": "execute_result",
          "data": {
            "text/plain": []
          },
          "metadata": {},
          "execution_count": 5
        }
      ],
      "source": [
        "%%shell\n",
        "# upload kaggle API key and move it to proper location\n",
        "mkdir -p ~/.kaggle\n",
        "cp kaggle.json ~/.kaggle/\n",
        "chmod 600 ~/.kaggle/kaggle.json\n",
        "ls -l ~/.kaggle/kaggle.json"
      ]
    },
    {
      "cell_type": "code",
      "execution_count": null,
      "metadata": {
        "colab": {
          "base_uri": "https://localhost:8080/"
        },
        "id": "KGkLBcmXOIb9",
        "outputId": "dfe1d99a-2b03-4961-d580-348d49a57549"
      },
      "outputs": [
        {
          "output_type": "stream",
          "name": "stdout",
          "text": [
            "Downloading citypersons-dataset-with-bg-image.zip to /content\n",
            "100% 6.47G/6.48G [00:52<00:00, 131MB/s]\n",
            "100% 6.48G/6.48G [00:52<00:00, 133MB/s]\n"
          ]
        },
        {
          "output_type": "execute_result",
          "data": {
            "text/plain": []
          },
          "metadata": {},
          "execution_count": 6
        }
      ],
      "source": [
        "%%shell\n",
        "# download citypersons dataset from kaggle\n",
        "kaggle datasets download -d muttahirulislam/citypersons-dataset-with-bg-image"
      ]
    },
    {
      "cell_type": "code",
      "source": [
        "# remove kaggle API key\n",
        "! rm ~/.kaggle/kaggle.json"
      ],
      "metadata": {
        "id": "WWnfAwQAhePE"
      },
      "execution_count": null,
      "outputs": []
    },
    {
      "cell_type": "code",
      "execution_count": null,
      "metadata": {
        "id": "tBoqOEUqOpCT"
      },
      "outputs": [],
      "source": [
        "! unzip -q citypersons-dataset-with-bg-image.zip"
      ]
    },
    {
      "cell_type": "code",
      "execution_count": null,
      "metadata": {
        "id": "jVunzHNdQtNT"
      },
      "outputs": [],
      "source": [
        "def resize(\n",
        "        src_dir: str,\n",
        "        out_dir: str,\n",
        "        width: int = 512,\n",
        "        convert_to_jpg: bool = True,\n",
        "        optimize: bool = True,\n",
        "        quality: int = 90,\n",
        "        fn_to_lower: bool = True,\n",
        "    ):\n",
        "        \"\"\"Resize images in a directory in proportion to given width.\n",
        "\n",
        "        Args:\n",
        "            src_dir (str): Path to the source directory containing images.\n",
        "            out_dir (str): Path to the destination directory for saving resized images.\n",
        "                A new directory will be created if out_dir doesn't exist already.\n",
        "            width (int, optional): Desired width of the resized image. Defaults to 512.\n",
        "            convert_to_jpg (bool, optional): Convert to jpg format if true. Defaults to True.\n",
        "            optimize (bool, optional): If true, do an extra pass on the image to find a way \n",
        "                to reduce its size as much as possible. Defaults to True.\n",
        "            quality (int, optional): Quality used for storing the image. Defaults to 80.\n",
        "            fn_to_lower (bool, optional): If true, convert the output filename into lowercase. Defaults to True.\n",
        "        \"\"\"\n",
        "        os.makedirs(out_dir, exist_ok=True)\n",
        "        fp_images= get_image_files(src_dir)\n",
        "        for fp_img in tqdm(fp_images, total=len(fp_images)):\n",
        "            suffix = fp_img.suffix\n",
        "            fn = fp_img.name.replace(suffix, \"\")\n",
        "            if fn_to_lower:\n",
        "                fn = fn.lower()\n",
        "                suffix = suffix.lower()\n",
        "                \n",
        "            img = Image.open(fp_img)\n",
        "            _width, _height = img.size\n",
        "            _scale = width / _width\n",
        "            _new_width = int(_width * _scale)\n",
        "            _new_height = int(_height * _scale)\n",
        "            img_resized = img.resize((_new_width, _new_height))\n",
        "            if convert_to_jpg:\n",
        "                final_img = img_resized.convert(\"RGB\")\n",
        "                suffix = \".jpg\"\n",
        "            else:\n",
        "                final_img = img_resized\n",
        "\n",
        "            fp_output = os.path.join(out_dir, fn + suffix)\n",
        "            final_img.save(fp=fp_output, optimize=optimize, quality=quality)"
      ]
    },
    {
      "cell_type": "code",
      "source": [
        "%%shell\n",
        "mkdir -p citypersons/train/images\n",
        "cp -r /content/yolo_dir/yolo_dir/train/labels citypersons/train/\n",
        "mkdir -p citypersons/valid/images\n",
        "cp -r /content/yolo_dir/yolo_dir/valid/labels citypersons/valid/"
      ],
      "metadata": {
        "id": "R8CoYKfwABc1",
        "colab": {
          "base_uri": "https://localhost:8080/"
        },
        "outputId": "6ae950ba-9f69-4c8f-dcf8-10f4e6b8d958"
      },
      "execution_count": null,
      "outputs": [
        {
          "output_type": "execute_result",
          "data": {
            "text/plain": []
          },
          "metadata": {},
          "execution_count": 10
        }
      ]
    },
    {
      "cell_type": "code",
      "execution_count": null,
      "metadata": {
        "id": "7zOsrFyBRJVh",
        "colab": {
          "base_uri": "https://localhost:8080/"
        },
        "outputId": "29c3d7b4-a2a1-4253-c0ae-3cdb37234094"
      },
      "outputs": [
        {
          "output_type": "stream",
          "name": "stderr",
          "text": [
            "100%|██████████| 2550/2550 [37:34<00:00,  1.13it/s]\n"
          ]
        }
      ],
      "source": [
        "# resize train images\n",
        "resize(src_dir=\"/content/yolo_dir/yolo_dir/train/images\", \n",
        "       out_dir=\"/content/citypersons/train/images\", \n",
        "       width=1024, \n",
        "       convert_to_jpg=False, \n",
        "       fn_to_lower=False)"
      ]
    },
    {
      "cell_type": "code",
      "execution_count": null,
      "metadata": {
        "id": "AiGtIED_S9Fl",
        "colab": {
          "base_uri": "https://localhost:8080/"
        },
        "outputId": "1fcf1c27-a205-4256-85f9-9f75fba895e9"
      },
      "outputs": [
        {
          "output_type": "stream",
          "name": "stderr",
          "text": [
            "100%|██████████| 451/451 [06:29<00:00,  1.16it/s]\n"
          ]
        }
      ],
      "source": [
        "# resize valid images\n",
        "resize(src_dir=\"/content/yolo_dir/yolo_dir/valid/images\", \n",
        "       out_dir=\"/content/citypersons/valid/images\", \n",
        "       width=1024, \n",
        "       convert_to_jpg=False, \n",
        "       fn_to_lower=False)"
      ]
    },
    {
      "cell_type": "markdown",
      "source": [
        "## Custom YOLO dataset\n",
        "\n",
        "### Images\n",
        "Create a `dataset.yaml` file. Dataset config file defines 1) the dataset root directory `path` and relative paths to `train` / `val` / `test` image directories (or *.txt files with image paths) and 2) a class `names` dictionary\n",
        "\n",
        "### Labels\n",
        "One `*.txt` file per image (if no objects in image, no `*.txt` file is required).\n",
        "Each row is `class x_center y_center width height` format. Box coordinates must be in **normalized xywh** format (from 0 - 1)\n",
        "\n",
        "YOLO locates labels automatically for each image by replacing the last instance of `/images/` in each image path with `/labels/`"
      ],
      "metadata": {
        "id": "FSI7AnoJPqqH"
      }
    },
    {
      "cell_type": "code",
      "source": [
        "# train classes\n",
        "classes = []\n",
        "for fp in iglob(\"/content/citypersons/train/labels/*.txt\"):\n",
        "    lines = []\n",
        "    with open(fp, 'r') as f:\n",
        "        for l in f.readlines():\n",
        "            classes.append(l[1])\n",
        "            # strip whitespaces and rewrite the txt file\n",
        "            lines.append(l.strip() + '\\n')\n",
        "    with open(fp, 'w') as f:\n",
        "        f.writelines(lines)\n",
        "\n",
        "print(Counter(classes))"
      ],
      "metadata": {
        "id": "Kkas2JtQMSoD",
        "colab": {
          "base_uri": "https://localhost:8080/"
        },
        "outputId": "e228fae7-b2e1-4877-eb00-0ccf53b46fa1"
      },
      "execution_count": null,
      "outputs": [
        {
          "output_type": "stream",
          "name": "stdout",
          "text": [
            "Counter({'1': 16526, '0': 4476})\n"
          ]
        }
      ]
    },
    {
      "cell_type": "code",
      "source": [
        "# valid classes\n",
        "classes = []\n",
        "for fp in iglob(\"/content/citypersons/valid/labels/*.txt\"):\n",
        "    lines = []\n",
        "    with open(fp, 'r') as f:\n",
        "        for l in f.readlines():\n",
        "            classes.append(l[1])\n",
        "            # strip whitespaces and rewrite the txt file\n",
        "            lines.append(l.strip() + '\\n')\n",
        "    with open(fp, 'w') as f:\n",
        "        f.writelines(lines)\n",
        "\n",
        "print(Counter(classes))"
      ],
      "metadata": {
        "id": "jm1Kj_ozLDbx",
        "colab": {
          "base_uri": "https://localhost:8080/"
        },
        "outputId": "a4a8578b-a51d-4fe0-8b18-49eee6f7fa10"
      },
      "execution_count": null,
      "outputs": [
        {
          "output_type": "stream",
          "name": "stdout",
          "text": [
            "Counter({'1': 3157, '0': 1007})\n"
          ]
        }
      ]
    },
    {
      "cell_type": "code",
      "source": [
        "dataset_yaml = ( \n",
        "\"\"\"path: /content/citypersons  # dataset root dir\n",
        "train: train/images  # train images (relative to 'path')\n",
        "val: valid/images  # val images (relative to 'path')\n",
        "test:  # test images (optional)\n",
        "\n",
        "# Classes\n",
        "names:\n",
        "  0: rider\n",
        "  1: pedestrian\n",
        "\"\"\")\n",
        "\n",
        "with open(\"citypersons/dataset.yaml\", \"w\") as f:\n",
        "    f.write(dataset_yaml)"
      ],
      "metadata": {
        "id": "pP_o4tDyNdC7"
      },
      "execution_count": null,
      "outputs": []
    },
    {
      "cell_type": "code",
      "source": [
        "%%shell\n",
        "# compress the dataset\n",
        "zip -r -9 -q citypersons.zip citypersons/\n",
        "# copy the dataset to GDrive\n",
        "cp citypersons.zip /content/drive/MyDrive/Reza/Projects/Pedestrian-Detection/data/"
      ],
      "metadata": {
        "id": "kD_FCn5NNfej",
        "colab": {
          "base_uri": "https://localhost:8080/"
        },
        "outputId": "810e1510-f022-4280-9ab8-90fe67f1e332"
      },
      "execution_count": null,
      "outputs": [
        {
          "output_type": "execute_result",
          "data": {
            "text/plain": []
          },
          "metadata": {},
          "execution_count": 16
        }
      ]
    },
    {
      "cell_type": "code",
      "source": [],
      "metadata": {
        "id": "VD7u-JvPNfZW"
      },
      "execution_count": null,
      "outputs": []
    }
  ],
  "metadata": {
    "colab": {
      "provenance": []
    },
    "kernelspec": {
      "display_name": "Python 3",
      "name": "python3"
    },
    "language_info": {
      "name": "python"
    }
  },
  "nbformat": 4,
  "nbformat_minor": 0
}